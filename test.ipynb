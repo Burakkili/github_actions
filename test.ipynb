{
 "cells": [
  {
   "cell_type": "markdown",
   "id": "ca0f160b",
   "metadata": {},
   "source": [
    "Test - push"
   ]
  }
 ],
 "metadata": {
  "language_info": {
   "name": "python"
  }
 },
 "nbformat": 4,
 "nbformat_minor": 5
}
